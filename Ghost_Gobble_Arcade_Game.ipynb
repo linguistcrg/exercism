{
  "nbformat": 4,
  "nbformat_minor": 0,
  "metadata": {
    "colab": {
      "provenance": [],
      "authorship_tag": "ABX9TyOyRS3GZxP0LC60rWATuGm3"
    },
    "kernelspec": {
      "name": "python3",
      "display_name": "Python 3"
    },
    "language_info": {
      "name": "python"
    }
  },
  "cells": [
    {
      "cell_type": "code",
      "execution_count": null,
      "metadata": {
        "id": "anqgRB08FxUQ"
      },
      "outputs": [],
      "source": [
        "\"\"\"Functions for implementing the rules of the classic arcade game Pac-Man.\"\"\"\n",
        "\n",
        "\n",
        "def eat_ghost(power_pellet_active, touching_ghost):\n",
        "    \"\"\"Verify that Pac-Man can eat a ghost if he is empowered by a power pellet.\n",
        "\n",
        "    :param power_pellet_active: bool - does the player have an active power pellet?\n",
        "    :param touching_ghost: bool - is the player touching a ghost?\n",
        "    :return: bool - can the ghost be eaten?\n",
        "    \"\"\"\n",
        "\n",
        "    return power_pellet_active and touching_ghost\n",
        "\n",
        "\n",
        "def score(touching_power_pellet, touching_dot):\n",
        "    \"\"\"Verify that Pac-Man has scored when a power pellet or dot has been eaten.\n",
        "\n",
        "    :param touching_power_pellet: bool - is the player touching a power pellet?\n",
        "    :param touching_dot: bool - is the player touching a dot?\n",
        "    :return: bool - has the player scored or not?\n",
        "    \"\"\"\n",
        "\n",
        "    return touching_power_pellet or touching_dot\n",
        "\n",
        "\n",
        "def lose(power_pellet_active, touching_ghost):\n",
        "    \"\"\"Trigger the game loop to end (GAME OVER) when Pac-Man touches a ghost without his power pellet.\n",
        "\n",
        "    :param power_pellet_active: bool - does the player have an active power pellet?\n",
        "    :param touching_ghost: bool - is the player touching a ghost?\n",
        "    :return: bool - has the player lost the game?\n",
        "    \"\"\"\n",
        "\n",
        "    return not power_pellet_active and touching_ghost\n",
        "\n",
        "\n",
        "def win(has_eaten_all_dots, power_pellet_active, touching_ghost):\n",
        "    \"\"\"Trigger the victory event when all dots have been eaten.\n",
        "\n",
        "    :param has_eaten_all_dots: bool - has the player \"eaten\" all the dots?\n",
        "    :param power_pellet_active: bool - does the player have an active power pellet?\n",
        "    :param touching_ghost: bool - is the player touching a ghost?\n",
        "    :return: bool - has the player won the game?\n",
        "    \"\"\"\n",
        "\n",
        "    return has_eaten_all_dots and not lose(power_pellet_active, touching_ghost)"
      ]
    }
  ]
}