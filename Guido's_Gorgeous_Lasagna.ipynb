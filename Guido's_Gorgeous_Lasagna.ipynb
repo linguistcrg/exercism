{
  "nbformat": 4,
  "nbformat_minor": 0,
  "metadata": {
    "colab": {
      "provenance": [],
      "authorship_tag": "ABX9TyMDuRHswVDusrengBhmrvkV"
    },
    "kernelspec": {
      "name": "python3",
      "display_name": "Python 3"
    },
    "language_info": {
      "name": "python"
    }
  },
  "cells": [
    {
      "cell_type": "code",
      "execution_count": null,
      "metadata": {
        "id": "xwp6Gj2sFYsW"
      },
      "outputs": [],
      "source": [
        "EXPECTED_BAKE_TIME = 40\n",
        "PREPARATION_TIME = 2\n",
        "\n",
        "def bake_time_remaining(elapsed_bake_time):\n",
        "    \"\"\"Calculate the bake time remaining.\n",
        "\n",
        "    :param elapsed_bake_time: int - baking time already elapsed.\n",
        "    :return: int - remaining bake time (in minutes) derived from 'EXPECTED_BAKE_TIME'.\n",
        "\n",
        "    Function that takes the actual minutes the lasagna has been in the oven as\n",
        "    an argument and returns how many minutes the lasagna still needs to bake\n",
        "    based on the `EXPECTED_BAKE_TIME`.\n",
        "    \"\"\"\n",
        "    remaining_bake_time = EXPECTED_BAKE_TIME - elapsed_bake_time\n",
        "    return remaining_bake_time\n",
        "\n",
        "def preparation_time_in_minutes(number_of_layers):\n",
        "    \"\"\"Calculate the preparation time.\n",
        "\n",
        "    :param number_of_layers: int the number of lasagna layers made\n",
        "    :return: int amount of prep time (in minutes), based on 2 minutes per layer added\n",
        "\n",
        "    This function takes an integer representing the number of layers added to the dish,\n",
        "    calculating preparation time using a time of 2 minutes per layer added.\n",
        "    \"\"\"\n",
        "    prep = number_of_layers * PREPARATION_TIME\n",
        "    return prep\n",
        "\n",
        "def elapsed_time_in_minutes(number_of_layers, elapsed_bake_time):\n",
        "    \"\"\"Calculate the elapsed cooking time.\n",
        "\n",
        "    :param number_of_layers: int - the number of layers in the lasagna.\n",
        "    :param elapsed_bake_time: int - elapsed cooking time.\n",
        "    :return: int - total time elapsed (in minutes) preparing and cooking.\n",
        "\n",
        "    This function takes two integers representing the number of lasagna layers and the\n",
        "    time already spent baking and calculates the total elapsed minutes spent cooking the\n",
        "    lasagna.\n",
        "    \"\"\"\n",
        "    prep = number_of_layers * PREPARATION_TIME\n",
        "    total_time_elapsed = prep + elapsed_bake_time\n",
        "    return total_time_elapsed"
      ]
    }
  ]
}